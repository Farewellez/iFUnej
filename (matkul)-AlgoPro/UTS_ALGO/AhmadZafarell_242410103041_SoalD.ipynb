{
 "cells": [
  {
   "cell_type": "markdown",
   "metadata": {
    "id": "oYyQv3FoM8gu"
   },
   "source": [
    "## Soal UTS Paket D\n",
    "\n",
    "Nama : Ahmad Zafarell Zouvan Dhani\n",
    "<br>\n",
    "Nim : 242410103041\n",
    "<br>\n",
    "Kelas : D\n",
    "<br>\n",
    "Link Pengumpulan : https://forms.gle/6dhTtZDtEAckWQS27"
   ]
  },
  {
   "cell_type": "markdown",
   "metadata": {
    "id": "CvFoL5sSUzD2"
   },
   "source": [
    "## 1. Denis Belajar (Medium) : 20 Poin\n",
    "\n",
    "**Deskripsi Soal:**  \n",
    "Denis cerita nya lagi berhitung nih, dia menghitung angka dari 1 dan berlanjut suka-suka dia. Satu saat Denis punya ide nih, jadi waktu dia ngitung dia juga bakal mengelompokkan angka yang merupakan kelipatan dari angka yang ia pilih dan angka yang bukan merupakan kelipatan dari angka yang ia pilih.\n",
    "\n",
    "### Catatan :\n",
    "- Wajib menggunakan **Rekursif**\n",
    "\n",
    "---\n",
    "\n",
    "### Contoh Input:\n",
    "```\n",
    "BatasAkhir = 20\n",
    "Kunci = 4\n",
    "\n",
    "```\n",
    "\n",
    "### Contoh Output:\n",
    "```\n",
    "List nilai yang bukan merupakan kelipatan angka kunci : [1, 2, 3, 5, 6, 7, 9, 10, 11, 13, 14, 15, 17, 18, 19]\n",
    "List nilai yang merupakan kelipatan angka kunci: [4, 8, 12, 16, 20]\n",
    "\n",
    "```"
   ]
  },
  {
   "cell_type": "code",
   "execution_count": 51,
   "metadata": {
    "executionInfo": {
     "elapsed": 6,
     "status": "ok",
     "timestamp": 1746949493523,
     "user": {
      "displayName": "Achmad Sapta",
      "userId": "08906595251962914711"
     },
     "user_tz": -420
    },
    "id": "VTNtnH19E1vC"
   },
   "outputs": [
    {
     "name": "stdout",
     "output_type": "stream",
     "text": [
      "[4, 8, 12, 16, 20] Alhamdulillah bisa :)\n"
     ]
    }
   ],
   "source": [
    "def dontol_ngitung(number: int, index = None, result = None) -> list: # Ini real kok bang, gapake AI :)\n",
    "    if result == None:\n",
    "        result = []\n",
    "\n",
    "    if index == None:\n",
    "        index = 1\n",
    "    \n",
    "    if index > 20:\n",
    "        return result\n",
    "    \n",
    "    if (number + index) % number == 0:\n",
    "        result.append(index)\n",
    "    return dontol_ngitung(number, index + 1, result) \n",
    "\n",
    "input_number = int(input(\"Input an integer:\\n\"))\n",
    "print(dontol_ngitung(input_number), end=\" \")\n",
    "print(\"Alhamdulillah bisa :)\")"
   ]
  },
  {
   "cell_type": "markdown",
   "metadata": {
    "id": "RRGMv-EFGRb0"
   },
   "source": [
    "## 2. Alien Iseng (Eazy) : 15 Poin\n",
    "\n",
    "**Deskripsi Soal:**  \n",
    "J!k@ anda membaca s()al ini, itu artinya soa| !ni hampir dib@j@k oleh alien. Po!n UTS mu akan dia^^b!l oleh alien jika kau +idak menemuk@n ada berapa kata yang memiliki karakter aneh $ebelum waktu UTS ber@khir. Pecahkan dan se|amatkan nilai UTSmu.\n",
    "\n",
    "- Karakter aneh = !, @, (), +, |, ^, $\n",
    "- Batasan : Jangan gunakan perintah list() untuk menyelesaikan soal ini\n",
    "- Gunakan algoritma **Brute Force**\n",
    "\n",
    "\n",
    "---\n",
    "\n",
    "### Contoh Input:\n",
    "```\n",
    "string = \"J!k@ anda membaca s()al ini\"\n",
    "\n",
    "```\n",
    "\n",
    "### Contoh Output:\n",
    "```\n",
    "Jumlah kata dengan karakter aneh adalah = 2\n",
    "\n",
    "```"
   ]
  },
  {
   "cell_type": "code",
   "execution_count": 35,
   "metadata": {
    "executionInfo": {
     "elapsed": 9,
     "status": "ok",
     "timestamp": 1746949498961,
     "user": {
      "displayName": "Achmad Sapta",
      "userId": "08906595251962914711"
     },
     "user_tz": -420
    },
    "id": "rwczNNwtG1u6"
   },
   "outputs": [
    {
     "name": "stdout",
     "output_type": "stream",
     "text": [
      "Jumlah kata dengan karakter aneh👽: 2 Alhamdulillah bisa :)\n"
     ]
    }
   ],
   "source": [
    "def anomali_alien(word: str) -> int: # Ini gapake Ai juga kok, real :)\n",
    "    Karakter_aneh = \"!,@,(),+,|,^,$\".replace(\",\",\"\")\n",
    "    result = \"\"\n",
    "    count = 0\n",
    "    for char in word:\n",
    "        if char == \" \":\n",
    "            for letter in result:\n",
    "                if letter in Karakter_aneh:\n",
    "                    count += 1\n",
    "                    break\n",
    "            result = \"\"\n",
    "            continue\n",
    "        result += char\n",
    "    return count\n",
    "\n",
    "user_input = input(\"Input beberapa kata :D\\n:\")\n",
    "bahasa_alien = anomali_alien(user_input)\n",
    "print(f\"Jumlah kata dengan karakter aneh👽: {bahasa_alien}\", end=\" \")\n",
    "print(\"Alhamdulillah bisa :)\")"
   ]
  },
  {
   "cell_type": "markdown",
   "metadata": {
    "id": "Mt40ln2HHuEA"
   },
   "source": [
    "## 3. Sorting (Medium) : 20 Poin\n",
    "\n",
    "**Deskripsi Soal:**  \n",
    "Buatlah sebuah program untuk mengurutkan angka-angka yang terdapat pada list di bawah ini, dengan syarat apabila terdapat angka kembar maka buat mereka menyatu. gunakan algoritma Bubble Sort!\n",
    "\n",
    "---\n",
    "\n",
    "### Contoh Input:\n",
    "```\n",
    "list = [4, 6, 7, 5, 4, 1, 3, 1, 2, 8]\n",
    "\n",
    "```\n",
    "\n",
    "### Contoh Output:\n",
    "```\n",
    "[1, 2, 3, 4, 5, 6, 7, 8]\n",
    "\n",
    "```"
   ]
  },
  {
   "cell_type": "code",
   "execution_count": 141,
   "metadata": {
    "executionInfo": {
     "elapsed": 5,
     "status": "ok",
     "timestamp": 1746949503510,
     "user": {
      "displayName": "Achmad Sapta",
      "userId": "08906595251962914711"
     },
     "user_tz": -420
    },
    "id": "R3eo3v7TH6I4"
   },
   "outputs": [
    {
     "name": "stdout",
     "output_type": "stream",
     "text": [
      "[1, 2, 3, 4, 5, 6, 7, 8] Alhamdulillah :)\n"
     ]
    }
   ],
   "source": [
    "def gelembung(numbers) -> list:\n",
    "    for _ in range(len(numbers)):\n",
    "        for j in range(len(numbers) - 1):\n",
    "            # print(f\"Apakah {numbers[j]} > {numbers[j + 1]} ?\")\n",
    "            if numbers[j] > numbers[j + 1]:\n",
    "                numbers[j], numbers[j + 1] = numbers[j + 1], numbers[j] \n",
    "    numbers = set(numbers)\n",
    "    result = [num for num in numbers]\n",
    "    return result\n",
    "        \n",
    "\n",
    "list = [4, 6, 7, 5, 4, 1, 3, 1, 2, 8]\n",
    "print(gelembung(list), end=\" \")\n",
    "print(\"Alhamdulillah :)\")"
   ]
  },
  {
   "cell_type": "markdown",
   "metadata": {
    "id": "F24NIz9BIN0U"
   },
   "source": [
    "## 4. Searching (medium) : 20 Poin\n",
    "\n",
    "**Deskripsi Soal:**  \n",
    "Carilah karakter a pada list 2 dimensi ini, sebutkan pada kolom dan baris keberapa letak dari karakter a\n",
    "\n",
    "[\n",
    "[@, @, @, @, @],\n",
    "\n",
    "[@, @, @, @, @],\n",
    "\n",
    "[@, @, @, @, @],\n",
    "\n",
    "[@, @, @, a, @],\n",
    "\n",
    "[@, @, @, @, @]\n",
    "]\n",
    "\n",
    "---\n",
    "\n",
    "### Contoh Input:\n",
    "```\n",
    "list = [\n",
    "[@, @, @, @, @],\n",
    "\n",
    "[@, @, @, @, @],\n",
    "\n",
    "[@, @, @, @, @],\n",
    "\n",
    "[@, @, @, a, @],\n",
    "\n",
    "[@, @, @, @, @]\n",
    "]\n",
    "\n",
    "\n",
    "```\n",
    "\n",
    "### Contoh Output:\n",
    "```\n",
    "Karakter a ada pada baris ke 4 dan kolom ke 4\n",
    "\n",
    "```"
   ]
  },
  {
   "cell_type": "code",
   "execution_count": 140,
   "metadata": {
    "executionInfo": {
     "elapsed": 7,
     "status": "ok",
     "timestamp": 1746949516141,
     "user": {
      "displayName": "Achmad Sapta",
      "userId": "08906595251962914711"
     },
     "user_tz": -420
    },
    "id": "NAVnX14bIdfd"
   },
   "outputs": [
    {
     "name": "stdout",
     "output_type": "stream",
     "text": [
      "Karakter a ada pada baris ke 4 kolom ke 4 Alhamdulillah :)\n"
     ]
    }
   ],
   "source": [
    "matrix = [\n",
    "    ['@', '@', '@', '@', '@'],\n",
    "    ['@', '@', '@', '@', '@'],\n",
    "    ['@', '@', '@', '@', '@'],\n",
    "    ['@', '@', '@', 'a', '@'],\n",
    "    ['@', '@', '@', '@', '@']\n",
    "]\n",
    "\n",
    "def cari_a(Matrix):\n",
    "    for column in range(len(Matrix)):\n",
    "        Column = Matrix[column]\n",
    "        # print(Column)\n",
    "        for j in range(len(Column)):\n",
    "            if Column[j] == \"a\":\n",
    "                return f\"Karakter a ada pada baris ke {column + 1} kolom ke {j + 1}\"\n",
    "                \n",
    "print(cari_a(matrix), end=\" \")\n",
    "print(\"Alhamdulillah :)\")"
   ]
  },
  {
   "cell_type": "markdown",
   "metadata": {
    "id": "o_xCtMgYIu4Z"
   },
   "source": [
    "## 5. Andi Mau Pulang (hard) : 25 Poin\n",
    "\n",
    "**Deskripsi Soal:**  \n",
    "Gawat !! Andi perlu bantuan kita agar dia bisa pulang kebumi. Dia harus mengirimkan data suhu dari mars menuju bumi. Tapi kapten di bumi memerintahkan andi untuk mengirimkan data suhu yang paling tinggi saja. Bantulah andi untuk mengolah data suhu di planet mars dan menampilkan nilai suhu tertinggi menggunakan divide and conquer.\n",
    "\n",
    "### Batasan =\n",
    "- Jangan gunakan perintah `max()`\n",
    "- Gunakan Algoritma **Divide And Conquer**\n",
    "\n",
    "---\n",
    "\n",
    "### Contoh Input:\n",
    "```\n",
    "list = [23, 17, 45, 12, 38, 29, 41]\n",
    "\n",
    "```\n",
    "\n",
    "### Contoh Output:\n",
    "```\n",
    "45\n",
    "\n",
    "```"
   ]
  },
  {
   "cell_type": "code",
   "execution_count": 146,
   "metadata": {
    "executionInfo": {
     "elapsed": 3,
     "status": "ok",
     "timestamp": 1746949521088,
     "user": {
      "displayName": "Achmad Sapta",
      "userId": "08906595251962914711"
     },
     "user_tz": -420
    },
    "id": "RM4e1IS-IurR"
   },
   "outputs": [
    {
     "name": "stdout",
     "output_type": "stream",
     "text": [
      "45 Alhamdulillah :)\n"
     ]
    }
   ],
   "source": [
    "def andi_pulang(suhu, result = None):\n",
    "    if result == None:\n",
    "        result = 0\n",
    "    max_left = -100\n",
    "    max_right = -100\n",
    "\n",
    "    left = suhu[:len(suhu)//2]\n",
    "    right = suhu[len(suhu)//2:]\n",
    "    for number_left in left:\n",
    "        if number_left > max_left:\n",
    "            max_left = number_left\n",
    "    \n",
    "    for number_right in right:\n",
    "        if number_right > max_right:\n",
    "            max_right = number_right\n",
    "    \n",
    "    if max_left > max_right:\n",
    "        result = max_left\n",
    "    elif max_left < max_right:\n",
    "        result = max_right\n",
    "    \n",
    "    return result\n",
    "        \n",
    "\n",
    "list = [23, 17, 45, 12, 38, 29, 41]\n",
    "print(andi_pulang(list), end=\" \")\n",
    "print(\"Alhamdulillah :)\")"
   ]
  }
 ],
 "metadata": {
  "colab": {
   "provenance": []
  },
  "kernelspec": {
   "display_name": "Python 3",
   "name": "python3"
  },
  "language_info": {
   "codemirror_mode": {
    "name": "ipython",
    "version": 3
   },
   "file_extension": ".py",
   "mimetype": "text/x-python",
   "name": "python",
   "nbconvert_exporter": "python",
   "pygments_lexer": "ipython3",
   "version": "3.12.5"
  }
 },
 "nbformat": 4,
 "nbformat_minor": 0
}
